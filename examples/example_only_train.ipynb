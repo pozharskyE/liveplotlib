{
 "cells": [
  {
   "cell_type": "code",
   "execution_count": 1,
   "metadata": {},
   "outputs": [],
   "source": [
    "import matplotlib.pyplot as plt\n",
    "\n",
    "from liveplotlib import LivePlotOnlyTrain"
   ]
  },
  {
   "cell_type": "code",
   "execution_count": 2,
   "metadata": {},
   "outputs": [
    {
     "name": "stdout",
     "output_type": "stream",
     "text": [
      "Detected file format:  ipynb\n",
      "matplotlib is in \"separated window\" mode now\n",
      "To return to \"inline\" mode later, just run live_plot.close()\n"
     ]
    }
   ],
   "source": [
    "J_history = []\n",
    "\n",
    "\n",
    "live_plot = LivePlotOnlyTrain(slice_bias=10, slice_fraction=0.1)"
   ]
  },
  {
   "cell_type": "code",
   "execution_count": 3,
   "metadata": {},
   "outputs": [],
   "source": [
    "# XXXXXXXX Don't worry about this code XXXXXXXXXXX\n",
    "# (it is just simulation for demonstration)\n",
    "import random\n",
    "import time\n",
    "import numpy as np\n",
    "\n",
    "SIMULATION_SPEED = 1\n",
    "NUM_ITERATIONS = 100\n",
    "\n",
    "for i in np.linspace(0.7, 0.1, NUM_ITERATIONS):\n",
    "    time.sleep(1 / (SIMULATION_SPEED * 10))\n",
    "\n",
    "    new_J = (i  + (random.random() - 0.5) * 0.1)\n",
    "# XXXXXXXXXXXXXXXXXXXXXXXXXXXXXXXXXXXXXXXXXXXXXXXXX\n",
    "\n",
    "\n",
    "    J_history.append(new_J)\n",
    "    live_plot.update(J_history)\n"
   ]
  },
  {
   "cell_type": "code",
   "execution_count": null,
   "metadata": {},
   "outputs": [],
   "source": [
    "live_plot.close()"
   ]
  },
  {
   "cell_type": "code",
   "execution_count": null,
   "metadata": {},
   "outputs": [],
   "source": [
    "plt.plot(J_history)"
   ]
  }
 ],
 "metadata": {
  "kernelspec": {
   "display_name": ".venv",
   "language": "python",
   "name": "python3"
  },
  "language_info": {
   "codemirror_mode": {
    "name": "ipython",
    "version": 3
   },
   "file_extension": ".py",
   "mimetype": "text/x-python",
   "name": "python",
   "nbconvert_exporter": "python",
   "pygments_lexer": "ipython3",
   "version": "3.11.6"
  }
 },
 "nbformat": 4,
 "nbformat_minor": 2
}
